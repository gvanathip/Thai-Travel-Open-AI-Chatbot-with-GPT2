{
  "nbformat": 4,
  "nbformat_minor": 0,
  "metadata": {
    "colab": {
      "name": "Data_Preparation.ipynb",
      "private_outputs": true,
      "provenance": [],
      "mount_file_id": "1bysqqEU2yFgDDMDxVpOpBHendgmva5hs",
      "authorship_tag": "ABX9TyMbu7CHUSofM3LOlOOZ3pZt",
      "include_colab_link": true
    },
    "kernelspec": {
      "name": "python3",
      "display_name": "Python 3"
    },
    "language_info": {
      "name": "python"
    }
  },
  "cells": [
    {
      "cell_type": "markdown",
      "metadata": {
        "id": "view-in-github",
        "colab_type": "text"
      },
      "source": [
        "<a href=\"https://colab.research.google.com/github/gvanathip/Thai-Travel-Open-AI-Chatbot-with-GPT2/blob/main/Data_Preparation.ipynb\" target=\"_parent\"><img src=\"https://colab.research.google.com/assets/colab-badge.svg\" alt=\"Open In Colab\"/></a>"
      ]
    },
    {
      "cell_type": "code",
      "source": [
        "n = 15\n",
        "#number of previous sentences"
      ],
      "metadata": {
        "id": "6fsKCNTK0A59"
      },
      "execution_count": null,
      "outputs": []
    },
    {
      "cell_type": "code",
      "source": [
        "import glob\n",
        "import logging\n",
        "import os\n",
        "import pickle\n",
        "import random\n",
        "import re\n",
        "import shutil\n",
        "from typing import Dict, List, Tuple\n",
        "\n",
        "import pandas as pd\n",
        "import numpy as np\n",
        "\n",
        "import string "
      ],
      "metadata": {
        "id": "kN7eaEgB1R-L"
      },
      "execution_count": null,
      "outputs": []
    },
    {
      "cell_type": "code",
      "execution_count": null,
      "metadata": {
        "id": "DkkgZDSKzvRU"
      },
      "outputs": [],
      "source": [
        "pip install pythainlp[full]"
      ]
    },
    {
      "cell_type": "code",
      "source": [
        "paths = ['/content/drive/MyDrive/IS-DS/BarbieDreamhouseAdventuresGoTeamRobertsTH',\n",
        "         '/content/drive/MyDrive/IS-DS/BarbieDreamhouseAdventuresTH',\n",
        "         '/content/drive/MyDrive/IS-DS/DiaryOfTootsiesTH',\n",
        "         '/content/drive/MyDrive/IS-DS/HormonesTH',\n",
        "         '/content/drive/MyDrive/IS-DS/PenTor2019TH',\n",
        "         '/content/drive/MyDrive/IS-DS/TalkingTomAndFriendsTH',\n",
        "         '/content/drive/MyDrive/IS-DS/TheBossBabyTH',\n",
        "         '/content/drive/MyDrive/IS-DS/WakeUpLadiesTheSeriesTH',\n",
        "         '/content/drive/MyDrive/IS-DS/YouTube']"
      ],
      "metadata": {
        "id": "lw7yqTM3z-UJ"
      },
      "execution_count": null,
      "outputs": []
    },
    {
      "cell_type": "code",
      "source": [
        "detects = ['คำบรรยายโดย'\n",
        "  ,'ติดตามตอนต่อไป'\n",
        "  ,'ความเดิมตอนที่แล้ว'\n",
        "  ,'♪'\n",
        "  ,'เสียง'\n",
        "  ,'เอฟเฟ็ค'\n",
        "  ,'ดนตรี'\n",
        "  ,'เอฟเฟกต์']"
      ],
      "metadata": {
        "id": "ak2LPmSi0mPN"
      },
      "execution_count": null,
      "outputs": []
    },
    {
      "cell_type": "code",
      "source": [
        "from pythainlp.wangchanberta import ThaiNameTagger"
      ],
      "metadata": {
        "id": "4r-ZJUD60uh5"
      },
      "execution_count": null,
      "outputs": []
    },
    {
      "cell_type": "code",
      "source": [
        "ner = ThaiNameTagger()"
      ],
      "metadata": {
        "id": "vmEthy5a0wep"
      },
      "execution_count": null,
      "outputs": []
    },
    {
      "cell_type": "code",
      "source": [
        "from csv import DictWriter\n",
        "field_names = ['fname','len']"
      ],
      "metadata": {
        "id": "H4ngjlx_6wfy"
      },
      "execution_count": null,
      "outputs": []
    },
    {
      "cell_type": "code",
      "source": [
        "def extract(path_,fnames_):\n",
        "    df = pd.DataFrame()\n",
        "\n",
        "    # for fname in fnames_:\n",
        "\n",
        "    #     print(fname)\n",
        "\n",
        "    dialog = []\n",
        "\n",
        "    lines = []\n",
        "    with open(path_+'/'+fnames_) as f:\n",
        "        lines = f.readlines()\n",
        "\n",
        "    count = 0\n",
        "    for line in lines:\n",
        "            \n",
        "        if ('<c.thai><c.bg_transparent>' in line) & all(detect not in line for detect in detects):\n",
        "              count += 1\n",
        "              line = re.sub(r'<.*?>','',line)\n",
        "              line = line.replace('<c.thai><c.bg_transparent>','')\n",
        "              line = line.replace('</c.bg_transparent></c.thai>','')\n",
        "              line = line.replace('\\n','')\n",
        "              line = line.replace('<c.thai>','')\n",
        "              line = line.replace('</c.thai>','')\n",
        "              line = line.replace('<c.bg_transparent>&lrm;','')\n",
        "              line = line.replace('&lrm;','')\n",
        "              line = line.replace('</c.bg_transparent>','')\n",
        "              line = line.replace('<c.bg_transparent>','')\n",
        "              line = line.replace('- ','')\n",
        "\n",
        "              line = line.replace('กู','เรา')\n",
        "              line = line.replace('มีง','name')\n",
        "\n",
        "              for c in string.punctuation:\n",
        "                line = re.sub(r'\\{}'.format(c),'',line)\n",
        "\n",
        "\n",
        "\n",
        "              line = line.replace('à¹','')\n",
        "              line = line.replace('à','')\n",
        "              line = line.replace('Ī','')\n",
        "              line = line.replace('ī','')\n",
        "              line = line.replace('±','')\n",
        "              line = line.replace('µ','')\n",
        "              line = line.replace('´','')\n",
        "              line = line.replace('Ļ','')\n",
        "              line = line.replace('°','')\n",
        "              line = line.replace('§','')\n",
        "              line = line.replace('¢','')\n",
        "\n",
        "              line = line.replace('เจ๊กล้วย','name')\n",
        "              line = line.replace('อีคิม','name')\n",
        "              line = line.replace('คิม','name')\n",
        "              line = line.replace('อีกัส','name')\n",
        "              line = line.replace('กัส','name')\n",
        "              line = line.replace('อีกอล์ฟ','name')\n",
        "              line = line.replace('กอล์ฟ','name')\n",
        "              line = line.replace('อีช้าง','name')\n",
        "              line = line.replace('พี่หมอน','name')\n",
        "              line = line.replace('น้องวาว','name')\n",
        "              line = line.replace('พี่เบียร์','name')\n",
        "              line = line.replace('พี่กอล์ฟ','name')\n",
        "              line = line.replace('พี่ยม','name')\n",
        "              line = line.replace('ยม','name')\n",
        "              line = line.replace('แองเจล่า','name')\n",
        "              line = line.replace('น้องพอใจ','name')\n",
        "              line = line.replace('จินเจอร์','name')\n",
        "              line = line.replace('น้องขั้นเทพ','name')\n",
        "              line = line.replace('ออย','name')\n",
        "              line = line.replace('หมอน','name')\n",
        "              line = line.replace('อีแหนด','name')\n",
        "              line = line.replace('เอ๋ย','name')\n",
        "              line = line.replace('บอสเบบี้','name')\n",
        "              line = line.replace('เบบี้บอส','name')\n",
        "              line = line.replace('เจ๊มิ้นท์','name')\n",
        "              line = line.replace('เจ๊','name')\n",
        "              line = line.replace('พี่ต่อ','name')\n",
        "              line = line.replace('พี่อู๊ด','name')\n",
        "              line = line.replace('พี่ติด','name')\n",
        "              line = line.replace('อีกล้วย','name')\n",
        "              line = line.replace('อีเบน','name')\n",
        "              line = line.replace('หมอก','name')\n",
        "              line = line.replace('ดาว','name')\n",
        "              line = line.replace('หนิง','name')\n",
        "              line = line.replace('ไอ้เรือง','name')\n",
        "              line = line.replace('เต้ย','name')\n",
        "\n",
        "              if len(line)>0:\n",
        "                if (line[0] != '(') & (line[-1] != ')') & all(detect not in line for detect in detects) & (line[0] != '[') & (line[-1] != ']') :\n",
        "                  temp = ner.get_ner(line, tag=True)\n",
        "                  if '<PERSON>' in temp:\n",
        "                    temp = re.sub(r'<PERSON>(.*?)</PERSON>', 'name', temp)\n",
        "                  else:\n",
        "                    temp = line\n",
        "\n",
        "                  line = re.sub(r'<(.*?)>', '', temp)\n",
        "                  line = re.sub(r\"[-()\\\"#/@;:<>{}=~|.?,]\", \"\", line)\n",
        "                  line = line.replace('�','')\n",
        "\n",
        "                  print(line)\n",
        "                  dialog.append(line)\n",
        "                #print(f'line {count}: {line}')    \n",
        "\n",
        "    #print(dialog)\n",
        "\n",
        "    contexted = []\n",
        "    for i in range(n, len(dialog)):\n",
        "      row = []\n",
        "      prev = i - 1 - n # we additionally subtract 1, so row will contain current response and 7 previous responses  \n",
        "      for j in range(i, prev, -1):\n",
        "        row.append(dialog[j])\n",
        "      contexted.append(row)\n",
        "    columns = ['response', 'context'] \n",
        "    columns = columns + ['context/'+str(i) for i in range(n-1)]\n",
        "    df = df.append(pd.DataFrame.from_records(contexted, columns=columns))\n",
        "\n",
        "    # print(path_+'/'+fnames_)\n",
        "    # print(len(dialog))\n",
        "    # print(df.head())\n",
        "\n",
        "\n",
        "    # Dictionary\n",
        "    dict_={'fname':path_+'/'+fnames_,'len':len(dialog)}\n",
        "      \n",
        "    # Open your CSV file in append mode\n",
        "    # Create a file object for this file\n",
        "    with open('/content/drive/MyDrive/IS-DS/len_info.csv', 'a') as f_object:\n",
        "          \n",
        "        # Pass the file object and a list \n",
        "        # of column names to DictWriter()\n",
        "        # You will get a object of DictWriter\n",
        "        dictwriter_object = DictWriter(f_object, fieldnames=field_names)\n",
        "      \n",
        "        #Pass the dictionary as an argument to the Writerow()\n",
        "        dictwriter_object.writerow(dict_)\n",
        "      \n",
        "        #Close the file object\n",
        "        f_object.close()\n",
        "\n",
        "\n",
        "    return df"
      ],
      "metadata": {
        "id": "hDrhJ8yr05Pi"
      },
      "execution_count": null,
      "outputs": []
    },
    {
      "cell_type": "code",
      "source": [
        "prep_df = pd.DataFrame()\n",
        "\n",
        "for path in paths:\n",
        "  #print(path)\n",
        "  fnames = os.listdir(path)\n",
        "  fnames.sort()\n",
        "  #print(fnames)\n",
        "\n",
        "  for fname in fnames[1:]:\n",
        "    prep_df = pd.concat([prep_df,extract(path_=path,fnames_=fname)])\n",
        "\n",
        "prep_df.to_csv('/content/drive/MyDrive/IS-DS/prep_df'+str(n)+'.csv',index=False)"
      ],
      "metadata": {
        "id": "GKE7HZMF1JtP"
      },
      "execution_count": null,
      "outputs": []
    },
    {
      "cell_type": "code",
      "source": [
        ""
      ],
      "metadata": {
        "id": "wJZLDrO-1Mst"
      },
      "execution_count": null,
      "outputs": []
    }
  ]
}