{
  "nbformat": 4,
  "nbformat_minor": 0,
  "metadata": {
    "colab": {
      "name": "youtube_transcript_scrapping.ipynb",
      "private_outputs": true,
      "provenance": [],
      "mount_file_id": "1zKtlVpfmqRlQkzB0hRDzbZQ79x3nXRkB",
      "authorship_tag": "ABX9TyNYcYDKqqjyWEHFm6HSlUVr",
      "include_colab_link": true
    },
    "kernelspec": {
      "name": "python3",
      "display_name": "Python 3"
    },
    "language_info": {
      "name": "python"
    }
  },
  "cells": [
    {
      "cell_type": "markdown",
      "metadata": {
        "id": "view-in-github",
        "colab_type": "text"
      },
      "source": [
        "<a href=\"https://colab.research.google.com/github/gvanathip/Thai-Travel-Open-AI-Chatbot-with-GPT2/blob/main/youtube_transcript_scrapping.ipynb\" target=\"_parent\"><img src=\"https://colab.research.google.com/assets/colab-badge.svg\" alt=\"Open In Colab\"/></a>"
      ]
    },
    {
      "cell_type": "code",
      "execution_count": null,
      "metadata": {
        "id": "clcI_TdKOQ0s"
      },
      "outputs": [],
      "source": [
        "pip install youtube_transcript_api"
      ]
    },
    {
      "cell_type": "code",
      "source": [
        "pip install beautifulsoup4"
      ],
      "metadata": {
        "id": "5_2bLi07m-of"
      },
      "execution_count": null,
      "outputs": []
    },
    {
      "cell_type": "code",
      "source": [
        "pip install requests"
      ],
      "metadata": {
        "id": "Ikr8HLtQm_qc"
      },
      "execution_count": null,
      "outputs": []
    },
    {
      "cell_type": "code",
      "source": [
        "from youtube_transcript_api import YouTubeTranscriptApi\n",
        "from urllib.parse import urlparse"
      ],
      "metadata": {
        "id": "eXMaBxQGO6k8"
      },
      "execution_count": null,
      "outputs": []
    },
    {
      "cell_type": "code",
      "source": [
        "def get_yt_video_id(url):\n",
        "\n",
        "    from urllib.parse import urlparse, parse_qs\n",
        "\n",
        "    if url.startswith(('youtu', 'www')):\n",
        "        url = 'http://' + url\n",
        "        \n",
        "    query = urlparse(url)\n",
        "    \n",
        "    if 'youtube' in query.hostname:\n",
        "        if query.path == '/watch':\n",
        "            return parse_qs(query.query)['v'][0]\n",
        "        elif query.path.startswith(('/embed/', '/v/')):\n",
        "            return query.path.split('/')[2]\n",
        "    elif 'youtu.be' in query.hostname:\n",
        "        return query.path[1:]\n",
        "    else:\n",
        "        raise ValueError"
      ],
      "metadata": {
        "id": "CLmIBRHZOe8D"
      },
      "execution_count": null,
      "outputs": []
    },
    {
      "cell_type": "code",
      "source": [
        "url = 'https://www.youtube.com/playlist?list=PLIv9n-Dksov_KB81E0Ncg7bD65-5ZMJmy'"
      ],
      "metadata": {
        "id": "2dtAdxL2Rbm1"
      },
      "execution_count": null,
      "outputs": []
    },
    {
      "cell_type": "code",
      "source": [
        "import requests\n",
        "r = requests.get(url)"
      ],
      "metadata": {
        "id": "WYCIg3KASxgr"
      },
      "execution_count": null,
      "outputs": []
    },
    {
      "cell_type": "code",
      "source": [
        "from bs4 import BeautifulSoup\n",
        "soup = BeautifulSoup(r.content)"
      ],
      "metadata": {
        "id": "QQFNWriGS5ug"
      },
      "execution_count": null,
      "outputs": []
    },
    {
      "cell_type": "code",
      "source": [
        "soup.find_all('href')"
      ],
      "metadata": {
        "id": "O1I0z3slTCsz"
      },
      "execution_count": null,
      "outputs": []
    },
    {
      "cell_type": "code",
      "source": [
        "!pip install selenium\n",
        "!apt-get update # to update ubuntu to correctly run apt install\n",
        "!apt install chromium-chromedriver\n",
        "!cp /usr/lib/chromium-browser/chromedriver /usr/bin\n",
        "import sys\n",
        "sys.path.insert(0,'/usr/lib/chromium-browser/chromedriver')"
      ],
      "metadata": {
        "id": "j0YPY18rWAc1"
      },
      "execution_count": null,
      "outputs": []
    },
    {
      "cell_type": "code",
      "source": [
        "from selenium import webdriver\n",
        "chrome_options = webdriver.ChromeOptions()\n",
        "chrome_options.add_argument('--headless')\n",
        "chrome_options.add_argument('--no-sandbox')\n",
        "chrome_options.add_argument('--disable-dev-shm-usage')\n",
        "driver = webdriver.Chrome('chromedriver',chrome_options=chrome_options)"
      ],
      "metadata": {
        "id": "GMCopkGnTEed"
      },
      "execution_count": null,
      "outputs": []
    },
    {
      "cell_type": "code",
      "source": [
        "driver.get(url)\n",
        "p = driver.find_element_by_xpath('//*[@id=\"contents\"]').get_attribute(\"innerHTML\")\n",
        "p"
      ],
      "metadata": {
        "id": "Q-0CSguvWXZp"
      },
      "execution_count": null,
      "outputs": []
    },
    {
      "cell_type": "code",
      "source": [
        "lsts = []\n",
        "for i in p.split(' '):\n",
        "  if 'href=\"/watch' in i:\n",
        "    lsts.append('https://www.youtube.com'+i.split('\"')[1])\n",
        "\n",
        "lsts = list(set(lsts))\n",
        "print(lsts)"
      ],
      "metadata": {
        "id": "NRV8xSzwWfn3"
      },
      "execution_count": null,
      "outputs": []
    },
    {
      "cell_type": "code",
      "source": [
        "lsts"
      ],
      "metadata": {
        "id": "uPdmxMIkXJu3"
      },
      "execution_count": null,
      "outputs": []
    },
    {
      "cell_type": "code",
      "source": [
        "vid = []\n",
        "for lst in lsts:\n",
        "  vid.append(get_yt_video_id(str(lst)))\n",
        "print(vid)"
      ],
      "metadata": {
        "id": "5znXnwLnZwLg"
      },
      "execution_count": null,
      "outputs": []
    },
    {
      "cell_type": "code",
      "source": [
        "vid"
      ],
      "metadata": {
        "id": "551z2ktFaKJN"
      },
      "execution_count": null,
      "outputs": []
    },
    {
      "cell_type": "code",
      "source": [
        "th_transcript = []\n",
        "for i in vid:\n",
        "  try:\n",
        "    texts = YouTubeTranscriptApi.get_transcript(i, languages=['th'])\n",
        "    for text in texts:\n",
        "      print(text['text'])\n",
        "      th_transcript.append(text['text'])\n",
        "  except:\n",
        "    continue"
      ],
      "metadata": {
        "id": "MUwu8cYgO2l1"
      },
      "execution_count": null,
      "outputs": []
    },
    {
      "cell_type": "code",
      "source": [
        "len(th_transcript)"
      ],
      "metadata": {
        "id": "KjBtDZMfX_dm"
      },
      "execution_count": null,
      "outputs": []
    },
    {
      "cell_type": "code",
      "source": [
        "import pandas as pd\n",
        "th_transcript = pd.DataFrame(th_transcript)"
      ],
      "metadata": {
        "id": "989T3zVNfqiK"
      },
      "execution_count": null,
      "outputs": []
    },
    {
      "cell_type": "code",
      "execution_count": null,
      "metadata": {
        "id": "ib168yf3C56I"
      },
      "outputs": [],
      "source": [
        "th_transcript.to_csv('/content/drive/MyDrive/IS-DS/YouTube/'+'Gowentgo.csv',index=False,index_label=False)"
      ]
    },
    {
      "cell_type": "code",
      "source": [
        "th_transcript"
      ],
      "metadata": {
        "id": "qtINFoZfflyN"
      },
      "execution_count": null,
      "outputs": []
    },
    {
      "cell_type": "code",
      "source": [
        "url = 'https://www.youtube.com/c/jkkgraphic/videos'\n",
        "driver.get(url)\n",
        "p = driver.find_element_by_xpath('//*[@id=\"contents\"]').get_attribute(\"outerHTML\")\n",
        "p"
      ],
      "metadata": {
        "id": "dfsIns9GgAUL"
      },
      "execution_count": null,
      "outputs": []
    },
    {
      "cell_type": "code",
      "source": [
        "p"
      ],
      "metadata": {
        "id": "tbNFIDtKkw1W"
      },
      "execution_count": null,
      "outputs": []
    },
    {
      "cell_type": "code",
      "source": [
        "lsts = []\n",
        "for i in p.split(' '):\n",
        "  if 'href=\"/watch' in i:\n",
        "    lsts.append('https://www.youtube.com'+i.split('\"')[1])\n",
        "\n",
        "lsts = list(set(lsts))\n",
        "print(lsts)"
      ],
      "metadata": {
        "id": "YkILDo8qkpzi"
      },
      "execution_count": null,
      "outputs": []
    },
    {
      "cell_type": "code",
      "source": [
        "print(len(lsts))"
      ],
      "metadata": {
        "id": "axo_-G8Aky9s"
      },
      "execution_count": null,
      "outputs": []
    },
    {
      "cell_type": "code",
      "source": [
        "p.split(' ')"
      ],
      "metadata": {
        "id": "4kHuG0zqk1Io"
      },
      "execution_count": null,
      "outputs": []
    },
    {
      "cell_type": "code",
      "source": [
        ""
      ],
      "metadata": {
        "id": "aCTaw2fBlASb"
      },
      "execution_count": null,
      "outputs": []
    }
  ]
}