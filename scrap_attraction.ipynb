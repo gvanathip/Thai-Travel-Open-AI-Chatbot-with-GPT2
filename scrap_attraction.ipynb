{
  "nbformat": 4,
  "nbformat_minor": 0,
  "metadata": {
    "colab": {
      "name": "scrap_attraction.ipynb",
      "private_outputs": true,
      "provenance": [],
      "background_execution": "on",
      "collapsed_sections": [],
      "mount_file_id": "1URGnmfvc4BEhxq_W4_WNMYC2GUZ85yHv",
      "authorship_tag": "ABX9TyPVjADbN8UL5Dk5vbBcTVGa",
      "include_colab_link": true
    },
    "kernelspec": {
      "name": "python3",
      "display_name": "Python 3"
    },
    "language_info": {
      "name": "python"
    }
  },
  "cells": [
    {
      "cell_type": "markdown",
      "metadata": {
        "id": "view-in-github",
        "colab_type": "text"
      },
      "source": [
        "<a href=\"https://colab.research.google.com/github/gvanathip/Thai-Travel-Open-AI-Chatbot-with-GPT2/blob/main/scrap_attraction.ipynb\" target=\"_parent\"><img src=\"https://colab.research.google.com/assets/colab-badge.svg\" alt=\"Open In Colab\"/></a>"
      ]
    },
    {
      "cell_type": "code",
      "execution_count": null,
      "metadata": {
        "id": "lWqZRfJ4hjeH"
      },
      "outputs": [],
      "source": [
        "url = 'https://thai.tourismthailand.org/Search-result/attraction?sort_by=datetime_updated_desc&page=1&perpage=15&menu=attraction'"
      ]
    },
    {
      "cell_type": "code",
      "source": [
        "!pip install selenium\n",
        "!apt-get update # to update ubuntu to correctly run apt install\n",
        "!apt install chromium-chromedriver\n",
        "!cp /usr/lib/chromium-browser/chromedriver /usr/bin\n",
        "import sys\n",
        "sys.path.insert(0,'/usr/lib/chromium-browser/chromedriver')"
      ],
      "metadata": {
        "id": "Dgl7XTgLiaTF"
      },
      "execution_count": null,
      "outputs": []
    },
    {
      "cell_type": "code",
      "source": [
        "from selenium import webdriver\n",
        "chrome_options = webdriver.ChromeOptions()\n",
        "chrome_options.add_argument('--headless')\n",
        "chrome_options.add_argument('--no-sandbox')\n",
        "chrome_options.add_argument('--disable-dev-shm-usage')\n",
        "driver = webdriver.Chrome('chromedriver',chrome_options=chrome_options)"
      ],
      "metadata": {
        "id": "3hU6H7yVleHk"
      },
      "execution_count": null,
      "outputs": []
    },
    {
      "cell_type": "code",
      "source": [
        "driver.get(url)"
      ],
      "metadata": {
        "id": "nsLv9uf7lrlf"
      },
      "execution_count": null,
      "outputs": []
    },
    {
      "cell_type": "code",
      "source": [
        "import time"
      ],
      "metadata": {
        "id": "hLZ5q9s642BC"
      },
      "execution_count": null,
      "outputs": []
    },
    {
      "cell_type": "code",
      "source": [
        "p = driver.find_element_by_xpath('/html/body/div/div/div/div[1]/div[2]/div/div/div[3]/div/div').get_attribute(\"innerText\")\n",
        "time.sleep(5)\n",
        "p"
      ],
      "metadata": {
        "id": "cmsUqITbl5gb"
      },
      "execution_count": null,
      "outputs": []
    },
    {
      "cell_type": "code",
      "source": [
        "import pandas as pd\n",
        "import requests\n",
        "from bs4 import BeautifulSoup"
      ],
      "metadata": {
        "id": "DtLpZCu6o8NP"
      },
      "execution_count": null,
      "outputs": []
    },
    {
      "cell_type": "code",
      "source": [
        "links = []\n",
        "plcs = dict()\n",
        "for i in range(int(p.split('\\n')[-1])):\n",
        "  urlx = url.replace('&page=1&','&page='+str(i+1)+'&')\n",
        "  #print(urlx)\n",
        "\n",
        "  driver.get(urlx)\n",
        "  time.sleep(5)\n",
        "  text = driver.find_element_by_xpath('/html/body/div/div/div/div[1]/div[2]/div/div/div[2]/div/div').get_attribute(\"innerHTML\")\n",
        "  # print(text)\n",
        "  for i in text.split('><'):\n",
        "    if 'href' in str(i):\n",
        "      link = 'https://thai.tourismthailand.org/Accessibility'+i.split('\"')[1]\n",
        "      links.append(link)\n",
        "      print('https://thai.tourismthailand.org/Accessibility'+i.split('\"')[1])\n",
        "\n",
        "      plc = text.split('<div class=\"\">')[1].split('</div>')[0]\n",
        "      plcs[plc] = link\n",
        "  \n",
        "print(plcs)\n",
        "plcs_ = pd.DataFrame.from_dict(plcs, orient='index')\n",
        "print(plcs_)\n",
        "plcs_.to_csv('/content/drive/MyDrive/IS-DS/'+'attraction_list.csv')\n",
        "links = list(set(links))\n",
        "print(links)"
      ],
      "metadata": {
        "id": "PD7VJTU4amZH"
      },
      "execution_count": null,
      "outputs": []
    },
    {
      "cell_type": "code",
      "source": [
        "plcs_"
      ],
      "metadata": {
        "id": "fg3PoMembJZ1"
      },
      "execution_count": null,
      "outputs": []
    },
    {
      "cell_type": "code",
      "source": [
        "temp = pd.read_csv(('/content/drive/MyDrive/IS-DS/'+'attraction_list.csv'))"
      ],
      "metadata": {
        "id": "8OlBN3ZptcOx"
      },
      "execution_count": null,
      "outputs": []
    },
    {
      "cell_type": "code",
      "source": [
        "links = list(temp['0'])"
      ],
      "metadata": {
        "id": "DZ7rgkJNt4yE"
      },
      "execution_count": null,
      "outputs": []
    },
    {
      "cell_type": "code",
      "source": [
        "trip = pd.read_csv('/content/drive/MyDrive/IS-DS/trip_planners.csv')\n",
        "trip.head()"
      ],
      "metadata": {
        "id": "VdBN4qX4N6Zu"
      },
      "execution_count": null,
      "outputs": []
    },
    {
      "cell_type": "code",
      "source": [
        "for i in list(trip.place_link):\n",
        "  for j in i[1:-1].split(','):\n",
        "    try:\n",
        "      print('https:'+j.split(':')[2])\n",
        "      links.append('https:'+j.split(':')[2])\n",
        "    except:\n",
        "      continue"
      ],
      "metadata": {
        "id": "WQD-yxL6N9Hw"
      },
      "execution_count": null,
      "outputs": []
    },
    {
      "cell_type": "code",
      "source": [
        "links = list(set(links))"
      ],
      "metadata": {
        "id": "wLzcGMW9QDjV"
      },
      "execution_count": null,
      "outputs": []
    },
    {
      "cell_type": "code",
      "source": [
        "attractions = []\n",
        "categories = []\n",
        "provinces = []\n",
        "pictures = []\n",
        "types = []\n",
        "addresses = []\n",
        "numbers = []\n",
        "informations = []\n",
        "importants = []\n",
        "maps = []\n",
        "lnk = []\n",
        "\n",
        "for i in list(set(links)):\n",
        "\n",
        "  print(i)\n",
        "  lnk.append(i)\n",
        "  urlxx = requests.get(i)\n",
        "  soup = BeautifulSoup(urlxx.content, \"html.parser\")\n",
        "\n",
        "  driver.get(i)\n",
        "  time.sleep(3)\n",
        "  \n",
        "  text = driver.find_element_by_xpath('/html/body/div/div/div/div[1]/div/div[1]/div[2]/div').get_attribute(\"innerText\")\n",
        "\n",
        "  attractions.append(text.replace('\\xa0','').split('\\n')[0])\n",
        "\n",
        "  try:\n",
        "    category = text.replace('\\xa0','').split('\\n')[1].split('|')[0]\n",
        "    categories.append(category)\n",
        "  except:\n",
        "    categories.append('')\n",
        "\n",
        "  try:\n",
        "    province = text.replace('\\xa0','').split('\\n')[1].split('|')[1]\n",
        "    provinces.append(province)\n",
        "  except:\n",
        "    provinces.append('')\n",
        "\n",
        "  try:\n",
        "    picture = driver.find_element_by_xpath('/html/body/div/div/div/div[1]/div/div[1]/div[4]/div[1]/picture/img').get_attribute(\"src\")\n",
        "    pictures.append(picture)\n",
        "  except:\n",
        "    pictures.append('')\n",
        "  \n",
        "  try:\n",
        "    type_ = driver.find_element_by_xpath('/html/body/div/div/div/div[1]/div/div[1]/div[4]/div[2]/div/p[2]').get_attribute(\"innerText\")\n",
        "    types.append(type_)\n",
        "  except:\n",
        "    types.append('')\n",
        "  \n",
        "  try:\n",
        "    address = driver.find_element_by_xpath('/html/body/div/div/div/div[1]/div/div[4]/div[2]/div/div/div[2]/div/div[2]/p[1]').get_attribute(\"innerText\")\n",
        "    addresses.append(address)\n",
        "  except:\n",
        "    addresses.append('')\n",
        "\n",
        "  try:\n",
        "    number = driver.find_element_by_xpath('/html/body/div/div/div/div[1]/div/div[1]/div[4]/div[2]/div/div/ul/li/a').get_attribute(\"innerText\")\n",
        "    numbers.append(number)\n",
        "  except:\n",
        "    numbers.append('')\n",
        "\n",
        "  try:\n",
        "    \n",
        "    information = driver.find_element_by_xpath('/html/body/div/div/div/div[1]/div/div[3]/div/div[2]/div[2]/div/div[2]/div/div/div').get_attribute(\"innerText\")\n",
        "    information.replace('\\xa0','').replace('\\n',' ')\n",
        "    informations.append(information)\n",
        "  except:\n",
        "    informations.append('')\n",
        "\n",
        "  try:\n",
        "    important = driver.find_element_by_xpath('/html/body/div/div/div/div[1]/div/div[3]/div/div[2]/div[5]/div/div/div[2]').get_attribute(\"innerText\")\n",
        "    important.replace('\\xa0','').replace('\\n',' ')\n",
        "    importants.append(important)\n",
        "  except:\n",
        "    importants.append('')\n",
        "\n",
        "  try:\n",
        "    map_ = driver.find_element_by_xpath('/html/body/div/div/div/div[1]/div/div[4]/div[2]/div/div/div[2]/div/div[1]/div/iframe').get_attribute(\"src\")\n",
        "    maps.append(map_.split('&')[0])\n",
        "  except:\n",
        "    maps.append('')\n",
        "\n",
        "\n",
        "df = pd.DataFrame(list(zip(attractions,\n",
        "                           categories,\n",
        "                           provinces,\n",
        "                           pictures,\n",
        "                           types,\n",
        "                           addresses,\n",
        "                           numbers,\n",
        "                           informations,\n",
        "                           importants,\n",
        "                           maps,\n",
        "                           lnk)), columns=['place',\n",
        "                                           'category',\n",
        "                                           'province',\n",
        "                                           'picture',\n",
        "                                           'type',\n",
        "                                           'address',\n",
        "                                           'numbers',\n",
        "                                           'information',\n",
        "                                           'importants',\n",
        "                                           'maps',\n",
        "                                           'link'])\n",
        "df.to_csv('/content/drive/MyDrive/IS-DS/'+'attraction.csv',index=False,index_label=False)\n",
        "\n",
        "print(df)"
      ],
      "metadata": {
        "id": "8Gf8kJl6BkVu"
      },
      "execution_count": null,
      "outputs": []
    },
    {
      "cell_type": "code",
      "source": [
        "import pandas as pd\n",
        "df = pd.read_csv('/content/drive/MyDrive/IS-DS/'+'attraction.csv')"
      ],
      "metadata": {
        "id": "KE5gbgJ4Kp7J"
      },
      "execution_count": null,
      "outputs": []
    },
    {
      "cell_type": "code",
      "source": [
        "df.columns"
      ],
      "metadata": {
        "id": "-nE0bjxL687g"
      },
      "execution_count": null,
      "outputs": []
    },
    {
      "cell_type": "code",
      "source": [
        "df.head()"
      ],
      "metadata": {
        "id": "qrsZ1k2lK5pS"
      },
      "execution_count": null,
      "outputs": []
    },
    {
      "cell_type": "code",
      "source": [
        "len(df)"
      ],
      "metadata": {
        "id": "qPJbynF1WQ0w"
      },
      "execution_count": null,
      "outputs": []
    },
    {
      "cell_type": "code",
      "source": [
        "df[df.columns] = df.apply(lambda x: x.str.strip())"
      ],
      "metadata": {
        "id": "OzyR-wIsaS9X"
      },
      "execution_count": null,
      "outputs": []
    },
    {
      "cell_type": "code",
      "source": [
        "import datetime\n",
        "import numpy as np"
      ],
      "metadata": {
        "id": "QccbJq7oX0TJ"
      },
      "execution_count": null,
      "outputs": []
    },
    {
      "cell_type": "code",
      "source": [
        "mask = df.category.astype(str).str[0].str.isdigit()\n",
        "df.loc[mask, 'category'] = np.NaN\n",
        "cat = list(set(df[df.province.notnull()].category))\n",
        "print(cat)\n",
        "df.loc[(df.category.notnull())&(~df.category.isin(cat))&(df.province.isnull()), 'province'] = df['category']\n",
        "df.loc[df.category==df.province, 'category'] = np.NaN\n",
        "df = df[df.province.notnull()].drop_duplicates()"
      ],
      "metadata": {
        "id": "4NY2JPIUX1ET"
      },
      "execution_count": null,
      "outputs": []
    },
    {
      "cell_type": "code",
      "source": [
        "df[df['place']=='เกาะไข่']"
      ],
      "metadata": {
        "id": "1AFjgXF875Xh"
      },
      "execution_count": null,
      "outputs": []
    },
    {
      "cell_type": "code",
      "source": [
        ""
      ],
      "metadata": {
        "id": "qkaKVxGK75Rg"
      },
      "execution_count": null,
      "outputs": []
    },
    {
      "cell_type": "code",
      "source": [
        "import pandas as pd\n",
        "trip = pd.read_csv('/content/drive/MyDrive/IS-DS/trip_planners.csv')\n",
        "trip.head()"
      ],
      "metadata": {
        "id": "i7PfDvtx75Je"
      },
      "execution_count": null,
      "outputs": []
    },
    {
      "cell_type": "code",
      "source": [
        "places = []\n",
        "links = []\n",
        "\n",
        "for i in list(trip.place_link):\n",
        "  for j in i[1:-1].split(','):\n",
        "    try:\n",
        "      print(j.split(':')[0].replace(\"'\",'').strip())\n",
        "      places.append(j.split(':')[0].replace(\"'\",'').strip())\n",
        "      print('https:'+j.split(':')[2].replace(\"'\",'').strip())\n",
        "      links.append('https:'+j.split(':')[2].replace(\"'\",'').strip())\n",
        "    except:\n",
        "      continue"
      ],
      "metadata": {
        "id": "7W6VQCYNiN5b"
      },
      "execution_count": null,
      "outputs": []
    },
    {
      "cell_type": "code",
      "source": [
        "import requests\n",
        "from bs4 import BeautifulSoup\n",
        "import time\n",
        "\n",
        "attractions = []\n",
        "categories = []\n",
        "provinces = []\n",
        "pictures = []\n",
        "types = []\n",
        "addresses = []\n",
        "numbers = []\n",
        "informations = []\n",
        "importants = []\n",
        "maps = []\n",
        "lnk = []\n",
        "\n",
        "for i in list(set(links)):\n",
        "\n",
        "  print(i)\n",
        "  lnk.append(i)\n",
        "  urlxx = requests.get(i)\n",
        "  soup = BeautifulSoup(urlxx.content, \"html.parser\")\n",
        "\n",
        "  driver.get(i)\n",
        "  time.sleep(3)\n",
        "  \n",
        "  text = driver.find_element_by_xpath('/html/body/div/div/div/div[1]/div/div[1]/div[2]/div').get_attribute(\"innerText\")\n",
        "  print('attraction:',text.replace('\\xa0','').split('\\n')[0])\n",
        "\n",
        "  attractions.append(text.replace('\\xa0','').split('\\n')[0])\n",
        "\n",
        "  try:\n",
        "    category = text.replace('\\xa0','').split('\\n')[1].split('|')[0]\n",
        "    print('category:',category)\n",
        "    categories.append(category)\n",
        "  except:\n",
        "    categories.append('')\n",
        "\n",
        "  try:\n",
        "    province = text.replace('\\xa0','').split('\\n')[1].split('|')[1]\n",
        "    print('province:',province)\n",
        "    provinces.append(province)\n",
        "  except:\n",
        "    provinces.append('')\n",
        "\n",
        "  try:\n",
        "    picture = driver.find_element_by_xpath('/html/body/div/div/div/div[1]/div/div[1]/div[4]/div[1]/picture/img').get_attribute(\"src\")\n",
        "    print('picture:',picture)\n",
        "    pictures.append(picture)\n",
        "  except:\n",
        "    pictures.append('')\n",
        "  \n",
        "  try:\n",
        "    type_ = driver.find_element_by_xpath('/html/body/div/div/div/div[1]/div/div[1]/div[4]/div[2]/div/p[2]').get_attribute(\"innerText\")\n",
        "    print('type:',type_)\n",
        "    types.append(type_)\n",
        "  except:\n",
        "    types.append('')\n",
        "  \n",
        "  try:\n",
        "    address = driver.find_element_by_xpath('/html/body/div/div/div/div[1]/div/div[4]/div[2]/div/div/div[2]/div/div[2]/p[1]').get_attribute(\"innerText\")\n",
        "    print('address:',address)\n",
        "    addresses.append(address)\n",
        "  except:\n",
        "    addresses.append('')\n",
        "\n",
        "  try:\n",
        "    number = driver.find_element_by_xpath('/html/body/div/div/div/div[1]/div/div[1]/div[4]/div[2]/div/div/ul/li/a').get_attribute(\"innerText\")\n",
        "    print('number:',number)\n",
        "    numbers.append(number)\n",
        "  except:\n",
        "    numbers.append('')\n",
        "\n",
        "  try:\n",
        "    \n",
        "    information = driver.find_element_by_xpath('/html/body/div/div/div/div[1]/div/div[3]/div/div[2]/div[2]/div/div[2]/div/div/div').get_attribute(\"innerText\")\n",
        "    information.replace('\\xa0','').replace('\\n',' ')\n",
        "    print('information:\\n',information)\n",
        "    informations.append(information)\n",
        "  except:\n",
        "    informations.append('')\n",
        "\n",
        "  try:\n",
        "    important = driver.find_element_by_xpath('/html/body/div/div/div/div[1]/div/div[3]/div/div[2]/div[5]/div/div/div[2]').get_attribute(\"innerText\")\n",
        "    important.replace('\\xa0','').replace('\\n',' ')\n",
        "    print('important:\\n',important)\n",
        "    importants.append(important)\n",
        "  except:\n",
        "    importants.append('')\n",
        "\n",
        "  try:\n",
        "    map_ = driver.find_element_by_xpath('/html/body/div/div/div/div[1]/div/div[4]/div[2]/div/div/div[2]/div/div[1]/div/iframe').get_attribute(\"src\")\n",
        "    print('map:',map)\n",
        "    maps.append(map_.split('&')[0])\n",
        "  except:\n",
        "    maps.append('')\n",
        "\n",
        "\n",
        "df = pd.DataFrame(list(zip(attractions,\n",
        "                           categories,\n",
        "                           provinces,\n",
        "                           pictures,\n",
        "                           types,\n",
        "                           addresses,\n",
        "                           numbers,\n",
        "                           informations,\n",
        "                           importants,\n",
        "                           maps,\n",
        "                           lnk)), columns=['place',\n",
        "                                           'category',\n",
        "                                           'province',\n",
        "                                           'picture',\n",
        "                                           'type',\n",
        "                                           'address',\n",
        "                                           'numbers',\n",
        "                                           'information',\n",
        "                                           'importants',\n",
        "                                           'maps',\n",
        "                                           'link'])"
      ],
      "metadata": {
        "id": "z8rNWvE9ivbn"
      },
      "execution_count": null,
      "outputs": []
    },
    {
      "cell_type": "code",
      "source": [
        "df.to_csv('/content/drive/MyDrive/IS-DS/'+'attraction2.csv',index=False,index_label=False)"
      ],
      "metadata": {
        "id": "aZe-gRHdkHIi"
      },
      "execution_count": null,
      "outputs": []
    },
    {
      "cell_type": "code",
      "source": [
        "df1 = pd.read_csv('/content/drive/MyDrive/IS-DS/'+'attraction2.csv')"
      ],
      "metadata": {
        "id": "P2wgVtG00EKx"
      },
      "execution_count": null,
      "outputs": []
    },
    {
      "cell_type": "code",
      "source": [
        "import numpy as np\n",
        "mask = df1.category.astype(str).str[0].str.isdigit()\n",
        "df1.loc[mask, 'category'] = np.NaN\n",
        "#cat = list(set(df1[df1.province.notnull()].category))\n",
        "print(cat)\n",
        "df1.loc[(df1.category.notnull())&(~df1.category.isin(cat))&(df1.province.isnull()), 'province'] = df1['category']\n",
        "df1.loc[df1.category==df1.province, 'category'] = np.NaN\n",
        "df1 = df1[df1.province.notnull()].drop_duplicates()"
      ],
      "metadata": {
        "id": "tkI5Ib4mDHDM"
      },
      "execution_count": null,
      "outputs": []
    },
    {
      "cell_type": "code",
      "source": [
        "df"
      ],
      "metadata": {
        "id": "86ouVfCiEO_G"
      },
      "execution_count": null,
      "outputs": []
    },
    {
      "cell_type": "code",
      "source": [
        "df1"
      ],
      "metadata": {
        "id": "YiGBWLBCDd2A"
      },
      "execution_count": null,
      "outputs": []
    },
    {
      "cell_type": "code",
      "source": [
        "dfx = pd.concat([df,df1])"
      ],
      "metadata": {
        "id": "9nvoG1DsEKLh"
      },
      "execution_count": null,
      "outputs": []
    },
    {
      "cell_type": "code",
      "source": [
        "dfx"
      ],
      "metadata": {
        "id": "nATzNvwvEhsL"
      },
      "execution_count": null,
      "outputs": []
    },
    {
      "cell_type": "code",
      "source": [
        "dfx[dfx['place']=='เกาะไข่']"
      ],
      "metadata": {
        "id": "qWIFRby-Eiho"
      },
      "execution_count": null,
      "outputs": []
    },
    {
      "cell_type": "code",
      "source": [
        "dfx.to_csv('/content/drive/MyDrive/IS-DS/'+'attraction.csv',index=False,index_label=False)"
      ],
      "metadata": {
        "id": "5uxEHIRxEpYE"
      },
      "execution_count": null,
      "outputs": []
    },
    {
      "cell_type": "code",
      "source": [
        ""
      ],
      "metadata": {
        "id": "8DPHmVOrE0re"
      },
      "execution_count": null,
      "outputs": []
    }
  ]
}