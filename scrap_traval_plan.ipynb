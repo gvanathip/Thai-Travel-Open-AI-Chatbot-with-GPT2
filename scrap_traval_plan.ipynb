{
  "nbformat": 4,
  "nbformat_minor": 0,
  "metadata": {
    "colab": {
      "name": "scrap_traval_plan.ipynb",
      "private_outputs": true,
      "provenance": [],
      "background_execution": "on",
      "mount_file_id": "1x_cWYYL3UMgQFj-ExBCSbDhCaWTX9qKB",
      "authorship_tag": "ABX9TyPLnmm5yMwE2pewWEpDJ1of",
      "include_colab_link": true
    },
    "kernelspec": {
      "name": "python3",
      "display_name": "Python 3"
    },
    "language_info": {
      "name": "python"
    }
  },
  "cells": [
    {
      "cell_type": "markdown",
      "metadata": {
        "id": "view-in-github",
        "colab_type": "text"
      },
      "source": [
        "<a href=\"https://colab.research.google.com/github/gvanathip/Thai-Travel-Open-AI-Chatbot-with-GPT2/blob/main/scrap_traval_plan.ipynb\" target=\"_parent\"><img src=\"https://colab.research.google.com/assets/colab-badge.svg\" alt=\"Open In Colab\"/></a>"
      ]
    },
    {
      "cell_type": "code",
      "execution_count": null,
      "metadata": {
        "id": "lWqZRfJ4hjeH"
      },
      "outputs": [],
      "source": [
        "url = 'https://thai.tourismthailand.org/Trip-Planner/search?menu=route&perpage=9'"
      ]
    },
    {
      "cell_type": "code",
      "source": [
        "!pip install selenium\n",
        "!apt-get update # to update ubuntu to correctly run apt install\n",
        "!apt install chromium-chromedriver\n",
        "!cp /usr/lib/chromium-browser/chromedriver /usr/bin\n",
        "import sys\n",
        "sys.path.insert(0,'/usr/lib/chromium-browser/chromedriver')"
      ],
      "metadata": {
        "id": "Dgl7XTgLiaTF"
      },
      "execution_count": null,
      "outputs": []
    },
    {
      "cell_type": "code",
      "source": [
        "from selenium import webdriver\n",
        "chrome_options = webdriver.ChromeOptions()\n",
        "chrome_options.add_argument('--headless')\n",
        "chrome_options.add_argument('--no-sandbox')\n",
        "chrome_options.add_argument('--disable-dev-shm-usage')\n",
        "driver = webdriver.Chrome('chromedriver',chrome_options=chrome_options)"
      ],
      "metadata": {
        "id": "3hU6H7yVleHk"
      },
      "execution_count": null,
      "outputs": []
    },
    {
      "cell_type": "code",
      "source": [
        "driver.get(url)"
      ],
      "metadata": {
        "id": "nsLv9uf7lrlf"
      },
      "execution_count": null,
      "outputs": []
    },
    {
      "cell_type": "code",
      "source": [
        "p = driver.find_element_by_xpath('//*[@id=\"__layout\"]/div/div[1]/div/div/div[5]/div/div/div/ul').get_attribute(\"innerText\")"
      ],
      "metadata": {
        "id": "cmsUqITbl5gb"
      },
      "execution_count": null,
      "outputs": []
    },
    {
      "cell_type": "code",
      "source": [
        "import time"
      ],
      "metadata": {
        "id": "hLZ5q9s642BC"
      },
      "execution_count": null,
      "outputs": []
    },
    {
      "cell_type": "code",
      "source": [
        "plan_lists = []\n",
        "for i in range(int(p.split('\\n')[-1])):\n",
        "  urlx = url.replace('&perpage=9','')+'&page='+str(i+1)+'&perpage=9'\n",
        "  driver.get(urlx)\n",
        "  time.sleep(5)\n",
        "  #urlxx = requests.get(urlx)\n",
        "  #soup = BeautifulSoup(urlxx.content, \"html.parser\")\n",
        "  print(urlx)\n",
        "  # for a_href in soup.find_all(\"a\", href=True):\n",
        "  #     print(a_href[\"href\"])\n",
        "  lnk = driver.find_element_by_xpath('//*[@id=\"__layout\"]/div/div[1]/div/div/div[4]/div/div/div/div/div').get_attribute(\"innerHTML\")\n",
        "  #print(urlx)\n",
        "  elms = lnk.split('><')\n",
        "  for elm in elms:\n",
        "    if 'href' in elm:\n",
        "      #print('https://thai.tourismthailand.org'+elm.split('\"')[1])\n",
        "      plan_lists.append('https://thai.tourismthailand.org'+elm.split('\"')[1])\n",
        "  #print(lnk)"
      ],
      "metadata": {
        "id": "nqjlNJfFnDuF"
      },
      "execution_count": null,
      "outputs": []
    },
    {
      "cell_type": "code",
      "source": [
        "plan_lists"
      ],
      "metadata": {
        "id": "khg9E368oHgF"
      },
      "execution_count": null,
      "outputs": []
    },
    {
      "cell_type": "code",
      "source": [
        "import pandas as pd\n",
        "import requests\n",
        "from bs4 import BeautifulSoup"
      ],
      "metadata": {
        "id": "DtLpZCu6o8NP"
      },
      "execution_count": null,
      "outputs": []
    },
    {
      "cell_type": "code",
      "source": [
        "for i in plan_lists[:3]:\n",
        "\n",
        "  df = []\n",
        "\n",
        "  urlxx = requests.get(i)\n",
        "  soup = BeautifulSoup(urlxx.content, \"html.parser\")\n",
        "\n",
        "  #driver.get(i)\n",
        "  lnk_list = dict()\n",
        "  time.sleep(5)\n",
        "  for j in soup.find_all('div'):\n",
        "      if 'href=\"/Attraction/' in str(j):\n",
        "        if '<img alt=\"' in str(j):\n",
        "          plc_name = str(j).split('href=\"/Attraction/')[0].split('<img alt=\"')[1].split('\"')[0]\n",
        "          # print(plc_name)\n",
        "          lnk = 'https://thai.tourismthailand.org/Attraction/'+str(j).split('href=\"/Attraction/')[1].split('\">อ่านต่อ<')[0]\n",
        "          # print(lnk)\n",
        "\n",
        "          if plc_name not in ['Logo Amazing Thailand','catagory icon image']:\n",
        "            lnk_list[plc_name] = lnk\n",
        "\n",
        "  print(lnk_list)"
      ],
      "metadata": {
        "id": "_mEJpxEwnt2s"
      },
      "execution_count": null,
      "outputs": []
    },
    {
      "cell_type": "code",
      "source": [
        "#titles = []\n",
        "dfs = []\n",
        "\n",
        "for i in plan_lists:\n",
        "\n",
        "  df = []\n",
        "\n",
        "  urlxx = requests.get(i)\n",
        "  soup = BeautifulSoup(urlxx.content, \"html.parser\")\n",
        "\n",
        "  #driver.get(i)\n",
        "  time.sleep(5)\n",
        "  #title = driver.find_element_by_xpath('').get_attribute(\"innerText\")\n",
        "  try:\n",
        "    title = soup.find_all('h3')[0].string\n",
        "  except:\n",
        "    continue\n",
        "  #titles.append(title)\n",
        "  #titles.append(title)\n",
        "  print(title)\n",
        "  #print(titles)\n",
        "\n",
        "  span = []\n",
        "  for j in soup.find_all('span'):\n",
        "    span.append(j.string)\n",
        "\n",
        "  plans = []\n",
        "  for k in span[2:]:\n",
        "    if 'ภาค' in str(k):\n",
        "      region = str(k)\n",
        "    elif 'วัน' in str(k):\n",
        "      category = str(k)\n",
        "    elif 'day' in str(k):\n",
        "      plans.append(str(k))\n",
        "\n",
        "  places = []\n",
        "  pics = dict()\n",
        "  for i in soup.find_all('img'):\n",
        "    if 'jpeg' in str(i):\n",
        "      places.append(str(i).split('\"')[1])\n",
        "      pics[str(i).split('\"')[1]] = str(i).split('\"')[-2]\n",
        "\n",
        "  lnk_list = dict()\n",
        "  for j in soup.find_all('div'):\n",
        "      if 'href=\"/Attraction/' in str(j):\n",
        "        if '<img alt=\"' in str(j):\n",
        "          try:\n",
        "            plc_name = str(j).split('href=\"/Attraction/')[0].split('<img alt=\"')[1].split('\"')[0]\n",
        "            # print(plc_name)\n",
        "            lnk = 'https://thai.tourismthailand.org/Attraction/'+str(j).split('href=\"/Attraction/')[1].split('\">อ่านต่อ<')[0]\n",
        "            # print(lnk)\n",
        "\n",
        "            if plc_name not in ['Logo Amazing Thailand','catagory icon image']:\n",
        "              lnk_list[plc_name] = lnk\n",
        "          except:\n",
        "            continue\n",
        "\n",
        "  df.append(title)\n",
        "  df.append(region)\n",
        "  df.append(category)\n",
        "  df.append(plans)\n",
        "  df.append(places)\n",
        "  df.append(pics)\n",
        "  df.append(lnk_list)\n",
        "\n",
        "  dfs.append(df)\n",
        "  dfs_ = pd.DataFrame(dfs, columns = ['title','region','category','plan','places','pictures','place_link'])\n",
        "  print(dfs_)"
      ],
      "metadata": {
        "id": "LS6GSsyGybE6"
      },
      "execution_count": null,
      "outputs": []
    },
    {
      "cell_type": "code",
      "source": [
        "dfs_.to_csv('/content/drive/MyDrive/IS-DS/'+'trip_planners.csv',index=False,index_label=False)"
      ],
      "metadata": {
        "id": "6M_CoUbs75mE"
      },
      "execution_count": null,
      "outputs": []
    },
    {
      "cell_type": "code",
      "source": [
        "dfs_"
      ],
      "metadata": {
        "id": "k5dOjBB175hi"
      },
      "execution_count": null,
      "outputs": []
    },
    {
      "cell_type": "code",
      "source": [
        ""
      ],
      "metadata": {
        "id": "W5RzeN__75da"
      },
      "execution_count": null,
      "outputs": []
    },
    {
      "cell_type": "code",
      "source": [
        "import pandas as pd"
      ],
      "metadata": {
        "id": "1AFjgXF875Xh"
      },
      "execution_count": null,
      "outputs": []
    },
    {
      "cell_type": "code",
      "source": [
        "df = pd.read_csv('/content/drive/MyDrive/IS-DS/'+'trip_planners.csv')"
      ],
      "metadata": {
        "id": "qkaKVxGK75Rg"
      },
      "execution_count": null,
      "outputs": []
    },
    {
      "cell_type": "code",
      "source": [
        "set(df.region)"
      ],
      "metadata": {
        "id": "i7PfDvtx75Je"
      },
      "execution_count": null,
      "outputs": []
    },
    {
      "cell_type": "code",
      "source": [
        "pd.set_option('max_colwidth', 400)"
      ],
      "metadata": {
        "id": "lgs9w47YhE2b"
      },
      "execution_count": null,
      "outputs": []
    },
    {
      "cell_type": "code",
      "source": [
        "df[df.region=='ภาคใต้'].tail(2).place_link"
      ],
      "metadata": {
        "id": "KLTfjjBJy71y"
      },
      "execution_count": null,
      "outputs": []
    },
    {
      "cell_type": "code",
      "source": [
        ""
      ],
      "metadata": {
        "id": "1rku_POjgIdA"
      },
      "execution_count": null,
      "outputs": []
    }
  ]
}